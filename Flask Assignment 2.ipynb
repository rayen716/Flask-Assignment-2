{
 "cells": [
  {
   "cell_type": "code",
   "execution_count": null,
   "id": "f19001a3",
   "metadata": {},
   "outputs": [],
   "source": [
    "Q1. Explain GET and POST methods?\n",
    "Ans1. GET Method:\n",
    "The GET method is used to retrieve data from a server. In a GET request, the client sends a request to the server with a URL containing query parameters, and the server responds with the requested data.\n",
    "GET /posts?category=tech&sort_by=date\n",
    "\n",
    "POST Method:\n",
    "The POST method is used to send data to a server. In a POST request, the client sends data in the request body to the server, and the server responds with a status code and a message indicating whether the request was successful or not."
   ]
  },
  {
   "cell_type": "code",
   "execution_count": null,
   "id": "3ac47fa4",
   "metadata": {},
   "outputs": [],
   "source": [
    "Q2. Why is request used in Flask?\n",
    "Ans2. In Flask, the request object is used to access incoming request data, such as form data, query parameters, and HTTP headers.\n"
   ]
  },
  {
   "cell_type": "code",
   "execution_count": null,
   "id": "a85c54f0",
   "metadata": {},
   "outputs": [],
   "source": [
    "Q3. Why is redirect() used in Flask?\n",
    "Ans3.  Redirection in Flask can be done by returning a redirect response object, created by invoking the redirect() function. The same method is used for redirecting to other routes on the same application and external websites."
   ]
  },
  {
   "cell_type": "code",
   "execution_count": null,
   "id": "d68dce84",
   "metadata": {},
   "outputs": [],
   "source": [
    "Q4. What are templates in Flask? Why is the render_template() function used?\n",
    "Ans4. In Flask, templates are used to generate dynamic HTML pages by using data from the application or user input. Templates provide a way to separate the presentation logic from the business logic of an application. \n",
    "The render_template() function in Flask is used to render HTML templates. It takes the name of the template as its first argument, and any additional arguments are used as keyword arguments in the template."
   ]
  },
  {
   "cell_type": "code",
   "execution_count": null,
   "id": "9e76a891",
   "metadata": {},
   "outputs": [],
   "source": [
    "Q5. Create a simple API. Use Postman to test it. Attach the screenshot of the output in the Jupyter Notebook?\n",
    "Ans5. pip install flask\n",
    "from flask import Flask\n",
    "\n",
    "app = Flask(__name__)\n",
    "@app.route('/hello')\n",
    "def hello():\n",
    "    return 'Hello, world!'\n",
    "if __name__ == '__main__':\n",
    "    app.run()"
   ]
  }
 ],
 "metadata": {
  "kernelspec": {
   "display_name": "Python 3 (ipykernel)",
   "language": "python",
   "name": "python3"
  },
  "language_info": {
   "codemirror_mode": {
    "name": "ipython",
    "version": 3
   },
   "file_extension": ".py",
   "mimetype": "text/x-python",
   "name": "python",
   "nbconvert_exporter": "python",
   "pygments_lexer": "ipython3",
   "version": "3.9.13"
  }
 },
 "nbformat": 4,
 "nbformat_minor": 5
}
